{
 "cells": [
  {
   "cell_type": "markdown",
   "metadata": {},
   "source": [
    "# Perceptron From Scratch\n",
    "\n",
    "In this notebook, we'll implement a single-neuron logistic model (perceptron) using pure NumPy and train it on our fruit dataset to classify apples (0) and bananas (1)."
   ]
  },
  {
   "cell_type": "code",
   "execution_count": null,
   "metadata": {},
   "source": [
    "import numpy as np\n",
    "import pandas as pd\n",
    "import matplotlib.pyplot as plt\n",
    "\n",
    "# Set random seed for reproducibility\n",
    "np.random.seed(42)"
   ]
  },
  {
   "cell_type": "markdown",
   "metadata": {},
   "source": [
    "## Load and Prepare Data"
   ]
  },
  {
   "cell_type": "code",
   "execution_count": null,
   "metadata": {},
   "source": [
    "# Load the fruit dataset\n",
    "data = pd.read_csv('fruit.csv')\n",
    "\n",
    "# Display the first few rows\n",
    "print(data.head())\n",
    "print(f'\nTotal samples: {len(data)}')"
   ]
  },
  {
   "cell_type": "code",
   "execution_count": null,
   "metadata": {},
   "source": [
    "# Prepare features (X) and target (y)\n",
    "X = data[['length_cm', 'weight_g', 'yellow_score']].values\n",
    "y = data['label'].values.reshape(-1, 1)\n",
    "\n",
    "# Normalize features for better convergence\n",
    "X_mean = X.mean(axis=0)\n",
    "X_std = X.std(axis=0)\n",
    "X_normalized = (X - X_mean) / X_std\n",
    "\n",
    "# Add bias term (intercept)\n",
    "X_normalized = np.hstack((np.ones((X.shape[0], 1)), X_normalized))\n",
    "\n",
    "print(f'Features shape: {X_normalized.shape}')\n",
    "print(f'Target shape: {y.shape}')"
   ]
  },
  {
   "cell_type": "markdown",
   "metadata": {},
   "source": [
    "## Implement Logistic Regression Model"
   ]
  },
  {
   "cell_type": "code",
   "execution_count": null,
   "metadata": {},
   "source": [
    "class LogisticPerceptron:\n",
    "    def __init__(self, input_size):\n",
    "        # Initialize weights randomly\n",
    "        self.weights = np.random.randn(input_size, 1) * 0.01\n",
    "        \n",
    "    def sigmoid(self, z):\n",
    "        # Sigmoid activation function\n",
    "        return 1 / (1 + np.exp(-z))\n",
    "    \n",
    "    def forward(self, X):\n",
    "        # Forward pass\n",
    "        z = np.dot(X, self.weights)\n",
    "        return self.sigmoid(z)\n",
    "    \n",
    "    def compute_loss(self, y_true, y_pred):\n",
    "        # Binary cross-entropy loss\n",
    "        m = y_true.shape[0]\n",
    "        loss = -np.sum(y_true * np.log(y_pred + 1e-10) + (1 - y_true) * np.log(1 - y_pred + 1e-10)) / m\n",
    "        return loss\n",
    "    \n",
    "    def compute_accuracy(self, y_true, y_pred):\n",
    "        # Calculate accuracy\n",
    "        predictions = (y_pred > 0.5).astype(int)\n",
    "        return np.mean(predictions == y_true)\n",
    "    \n",
    "    def compute_gradients(self, X, y_true, y_pred):\n",
    "        # Compute gradients for batch gradient descent\n",
    "        m = y_true.shape[0]\n",
    "        dw = np.dot(X.T, (y_pred - y_true)) / m\n",
    "        return dw\n",
    "    \n",
    "    def update_weights(self, gradients, learning_rate):\n",
    "        # Update weights using gradient descent\n",
    "        self.weights -= learning_rate * gradients\n",
    "        \n",
    "    def train(self, X, y, learning_rate=0.1, epochs=1000, early_stopping_loss=0.05):\n",
    "        # Training loop\n",
    "        losses = []\n",
    "        accuracies = []\n",
    "        \n",
    "        for epoch in range(epochs):\n",
    "            # Forward pass\n",
    "            y_pred = self.forward(X)\n",
    "            \n",
    "            # Compute loss and accuracy\n",
    "            loss = self.compute_loss(y, y_pred)\n",
    "            accuracy = self.compute_accuracy(y, y_pred)\n",
    "            \n",
    "            # Store metrics\n",
    "            losses.append(loss)\n",
    "            accuracies.append(accuracy)\n",
    "            \n",
    "            # Compute gradients\n",
    "            gradients = self.compute_gradients(X, y, y_pred)\n",
    "            \n",
    "            # Update weights\n",
    "            self.update_weights(gradients, learning_rate)\n",
    "            \n",
    "            # Print progress every 100 epochs\n",
    "            if epoch % 100 == 0:\n",
    "                print(f'Epoch {epoch}/{epochs}, Loss: {loss:.4f}, Accuracy: {accuracy:.4f}')\n",
    "            \n",
    "            # Early stopping if loss is below threshold\n",
    "            if loss < early_stopping_loss:\n",
    "                print(f'\nEarly stopping at epoch {epoch}. Loss: {loss:.4f} < {early_stopping_loss}')\n",
    "                break\n",
    "                \n",
    "        return losses, accuracies"
   ]
  },
  {
   "cell_type": "markdown",
   "metadata": {},
   "source": [
    "## Train the Model"
   ]
  },
  {
   "cell_type": "code",
   "execution_count": null,
   "metadata": {},
   "source": [
    "# Create and train the model\n",
    "input_size = X_normalized.shape[1]  # Number of features including bias\n",
    "model = LogisticPerceptron(input_size)\n",
    "\n",
    "# Store initial weights for comparison\n",
    "initial_weights = model.weights.copy()\n",
    "\n",
    "# Make initial predictions\n",
    "initial_predictions = model.forward(X_normalized)\n",
    "initial_loss = model.compute_loss(y, initial_predictions)\n",
    "initial_accuracy = model.compute_accuracy(y, initial_predictions)\n",
    "\n",
    "print(f'Initial random model - Loss: {initial_loss:.4f}, Accuracy: {initial_accuracy:.4f}')\n",
    "\n",
    "# Train the model\n",
    "losses, accuracies = model.train(X_normalized, y, learning_rate=0.1, epochs=1000, early_stopping_loss=0.05)\n",
    "\n",
    "# Final predictions\n",
    "final_predictions = model.forward(X_normalized)\n",
    "final_loss = model.compute_loss(y, final_predictions)\n",
    "final_accuracy = model.compute_accuracy(y, final_predictions)\n",
    "\n",
    "print(f'\nFinal model - Loss: {final_loss:.4f}, Accuracy: {final_accuracy:.4f}')"
   ]
  },
  {
   "cell_type": "markdown",
   "metadata": {},
   "source": [
    "## Visualize Training Progress"
   ]
  },
  {
   "cell_type": "code",
   "execution_count": null,
   "metadata": {},
   "source": [
    "# Plot loss and accuracy over epochs\n",
    "plt.figure(figsize=(12, 5))\n",
    "\n",
    "# Plot loss\n",
    "plt.subplot(1, 2, 1)\n",
    "plt.plot(losses)\n",
    "plt.title('Loss per Epoch')\n",
    "plt.xlabel('Epoch')\n",
    "plt.ylabel('Binary Cross-Entropy Loss')\n",
    "plt.grid(True)\n",
    "\n",
    "# Plot accuracy\n",
    "plt.subplot(1, 2, 2)\n",
    "plt.plot(accuracies)\n",
    "plt.title('Accuracy per Epoch')\n",
    "plt.xlabel('Epoch')\n",
    "plt.ylabel('Accuracy')\n",
    "plt.grid(True)\n",
    "\n",
    "plt.tight_layout()\n",
    "plt.show()"
   ]
  },
  {
   "cell_type": "markdown",
   "metadata": {},
   "source": [
    "## Experiment with Different Learning Rates"
   ]
  },
  {
   "cell_type": "code",
   "execution_count": null,
   "metadata": {},
   "source": [
    "# Function to train model with different learning rates\n",
    "def train_with_lr(X, y, learning_rate, epochs=500):\n",
    "    model = LogisticPerceptron(X.shape[1])\n",
    "    losses, _ = model.train(X, y, learning_rate=learning_rate, epochs=epochs, early_stopping_loss=0.01)\n",
    "    return losses\n",
    "\n",
    "# Try different learning rates\n",
    "learning_rates = [0.001, 0.01, 0.1, 0.5]\n",
    "all_losses = []\n",
    "\n",
    "for lr in learning_rates:\n",
    "    losses = train_with_lr(X_normalized, y, lr)\n",
    "    all_losses.append(losses)\n",
    "    \n",
    "# Plot comparison\n",
    "plt.figure(figsize=(10, 6))\n",
    "for i, lr in enumerate(learning_rates):\n",
    "    plt.plot(all_losses[i], label=f'LR = {lr}')\n",
    "    \n",
    "plt.title('Impact of Learning Rate on Convergence')\n",
    "plt.xlabel('Epoch')\n",
    "plt.ylabel('Loss')\n",
    "plt.legend()\n",
    "plt.grid(True)\n",
    "plt.show()"
   ]
  },
  {
   "cell_type": "markdown",
   "metadata": {},
   "source": [
    "## Visualize Decision Boundary"
   ]
  },
  {
   "cell_type": "code",
   "execution_count": null,
   "metadata": {},
   "source": [
    "# Let's visualize the decision boundary using two features\n",
    "# We'll use length_cm and yellow_score as they're likely the most discriminative\n",
    "\n",
    "# Extract the two features\n",
    "feature1_idx = 1  # length_cm (after normalization)\n",
    "feature2_idx = 3  # yellow_score (after normalization)\n",
    "\n",
    "# Create a mesh grid\n",
    "x_min, x_max = X_normalized[:, feature1_idx].min() - 0.5, X_normalized[:, feature1_idx].max() + 0.5\n",
    "y_min, y_max = X_normalized[:, feature2_idx].min() - 0.5, X_normalized[:, feature2_idx].max() + 0.5\n",
    "xx, yy = np.meshgrid(np.linspace(x_min, x_max, 100), np.linspace(y_min, y_max, 100))\n",
    "\n",
    "# Create grid points\n",
    "grid = np.zeros((xx.ravel().shape[0], X_normalized.shape[1]))\n",
    "grid[:, 0] = 1  # Bias term\n",
    "grid[:, feature1_idx] = xx.ravel()\n",
    "grid[:, feature2_idx] = yy.ravel()\n",
    "\n",
    "# Predict on grid points\n",
    "Z = model.forward(grid).reshape(xx.shape)\n",
    "\n",
    "# Plot decision boundary\n",
    "plt.figure(figsize=(10, 8))\n",
    "plt.contourf(xx, yy, Z, alpha=0.3, cmap=plt.cm.coolwarm)\n",
    "plt.colorbar(label='Probability of being a banana')\n",
    "\n",
    "# Plot training points\n",
    "scatter = plt.scatter(X_normalized[:, feature1_idx], X_normalized[:, feature2_idx], c=y.ravel(), \n",
    "                     cmap=plt.cm.coolwarm, edgecolors='k')\n",
    "\n",
    "plt.title('Decision Boundary')\n",
    "plt.xlabel('Normalized Length (cm)')\n",
    "plt.ylabel('Normalized Yellow Score')\n",
    "plt.legend(*scatter.legend_elements(), title='Fruit')\n",
    "plt.grid(True)\n",
    "plt.show()"
   ]
  }
 ],
 "metadata": {
  "kernelspec": {
   "display_name": "Python 3",
   "language": "python",
   "name": "python3"
  },
  "language_info": {
   "codemirror_mode": {
    "name": "ipython",
    "version": 3
   },
   "file_extension": ".py",
   "mimetype": "text/x-python",
   "name": "python",
   "nbconvert_exporter": "python",
   "pygments_lexer": "ipython3",
   "version": "3.8.10"
  }
 },
 "nbformat": 4,
 "nbformat_minor": 4
}